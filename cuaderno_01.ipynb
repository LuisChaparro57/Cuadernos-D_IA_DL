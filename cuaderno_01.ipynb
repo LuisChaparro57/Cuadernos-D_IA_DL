{
  "nbformat": 4,
  "nbformat_minor": 0,
  "metadata": {
    "colab": {
      "name": "cuaderno_01.ipynb",
      "provenance": []
    },
    "kernelspec": {
      "name": "python3",
      "display_name": "Python 3"
    },
    "language_info": {
      "name": "python"
    }
  },
  "cells": [
    {
      "cell_type": "code",
      "execution_count": null,
      "metadata": {
        "id": "CmW8sMM89Wr6"
      },
      "outputs": [],
      "source": [
        ""
      ]
    },
    {
      "cell_type": "markdown",
      "source": [
        "# Aprendizaje de Maquina"
      ],
      "metadata": {
        "id": "_JvJbzp1qPO_"
      }
    },
    {
      "cell_type": "markdown",
      "source": [
        "## Preliminares\n",
        "\n",
        "\n"
      ],
      "metadata": {
        "id": "OH5NpmzlrAmL"
      }
    },
    {
      "cell_type": "markdown",
      "source": [
        "Elaprendizajede máquina es un tema muy interesante, que ha dado un impulso extraordinario a los  desarrollos asociados a la IA.\n",
        "\n",
        "[Machine Learning](https://www.bbva.com/es/machine-learning-que-es-y-como-funciona//)\n",
        "\n",
        "[Cómo apender markdown](https://www.markdownguide.org/basic-sintax)\n",
        "\n",
        "![Que es machine learning](https://greensqa.com/wp-content/uploads/2020/04/Machine-Learning-01.jpg)\n",
        "\n",
        "![machine learning BBVA](https://www.bbva.com/wp-content/uploads/2019/11/BBVA-Machine-learning-08112019-1920x1180.png)\n",
        "\n",
        "**\"Esta imágen es tomada de un archivo local\"**\n",
        "*Desde mi computadora*\n",
        "***Texto e negrita y cursiva***\n",
        ">texto indentado\n"
      ],
      "metadata": {
        "id": "TNYy2d7mcFyT"
      }
    },
    {
      "cell_type": "markdown",
      "source": [
        "# Lenguaje Latex"
      ],
      "metadata": {
        "id": "WC-QFh9WtofO"
      }
    },
    {
      "cell_type": "markdown",
      "source": [
        "Latex se usa para editar escritura cientifica. Inclye edición de formulas matemáticas.\n",
        "$ y=x^2$\n",
        "Ahora cdntrado\n",
        "$$y=x^2$$\n",
        "$$\\frac{dx}{dt}=kC$$"
      ],
      "metadata": {
        "id": "WnGxC41it39t"
      }
    },
    {
      "cell_type": "markdown",
      "source": [
        "# Tarea"
      ],
      "metadata": {
        "id": "kAlernin2TMA"
      }
    },
    {
      "cell_type": "markdown",
      "source": [
        "Comocolocar videos en Colaboratory\n"
      ],
      "metadata": {
        "id": "YKxAXjJd2Xld"
      }
    },
    {
      "cell_type": "markdown",
      "source": [
        ""
      ],
      "metadata": {
        "id": "ofqoIAVkj64g"
      }
    },
    {
      "cell_type": "markdown",
      "source": [
        "# Sección de codigo"
      ],
      "metadata": {
        "id": "P62ymHhsjhJm"
      }
    },
    {
      "cell_type": "code",
      "source": [
        "print(\"esta es mi primera linea de código\")"
      ],
      "metadata": {
        "colab": {
          "base_uri": "https://localhost:8080/"
        },
        "id": "DzvN03SOi6-0",
        "outputId": "12211fed-ce05-4388-851c-80870160c00c"
      },
      "execution_count": 3,
      "outputs": [
        {
          "output_type": "stream",
          "name": "stdout",
          "text": [
            "esta es mi primera linea de código\n"
          ]
        }
      ]
    },
    {
      "cell_type": "markdown",
      "source": [
        ""
      ],
      "metadata": {
        "id": "HaVaprGfjpwP"
      }
    }
  ]
}